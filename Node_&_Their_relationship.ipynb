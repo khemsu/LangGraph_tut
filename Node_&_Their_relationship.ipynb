{
  "nbformat": 4,
  "nbformat_minor": 0,
  "metadata": {
    "colab": {
      "provenance": [],
      "authorship_tag": "ABX9TyPMmi5rDt2GdMc8//xYA7wu",
      "include_colab_link": true
    },
    "kernelspec": {
      "name": "python3",
      "display_name": "Python 3"
    },
    "language_info": {
      "name": "python"
    }
  },
  "cells": [
    {
      "cell_type": "markdown",
      "metadata": {
        "id": "view-in-github",
        "colab_type": "text"
      },
      "source": [
        "<a href=\"https://colab.research.google.com/github/khemsu/LangGraph_tut/blob/main/Node_%26_Their_relationship.ipynb\" target=\"_parent\"><img src=\"https://colab.research.google.com/assets/colab-badge.svg\" alt=\"Open In Colab\"/></a>"
      ]
    },
    {
      "cell_type": "code",
      "execution_count": 11,
      "metadata": {
        "id": "Zls6WoGimUI7",
        "colab": {
          "base_uri": "https://localhost:8080/",
          "height": 375
        },
        "outputId": "e300a3f7-418d-4cd9-c079-604dc4f629d3"
      },
      "outputs": [
        {
          "output_type": "error",
          "ename": "ModuleNotFoundError",
          "evalue": "No module named 'langgraph'",
          "traceback": [
            "\u001b[0;31m---------------------------------------------------------------------------\u001b[0m",
            "\u001b[0;31mModuleNotFoundError\u001b[0m                       Traceback (most recent call last)",
            "\u001b[0;32m<ipython-input-11-1f66869f951c>\u001b[0m in \u001b[0;36m<cell line: 0>\u001b[0;34m()\u001b[0m\n\u001b[1;32m      1\u001b[0m \u001b[0;32mfrom\u001b[0m \u001b[0mtyping\u001b[0m \u001b[0;32mimport\u001b[0m \u001b[0mTypedDict\u001b[0m\u001b[0;34m,\u001b[0m \u001b[0mDict\u001b[0m\u001b[0;34m,\u001b[0m \u001b[0mList\u001b[0m\u001b[0;34m,\u001b[0m \u001b[0mAny\u001b[0m\u001b[0;34m\u001b[0m\u001b[0;34m\u001b[0m\u001b[0m\n\u001b[0;32m----> 2\u001b[0;31m \u001b[0;32mfrom\u001b[0m \u001b[0mlanggraph\u001b[0m\u001b[0;34m.\u001b[0m\u001b[0mgraph\u001b[0m \u001b[0;32mimport\u001b[0m \u001b[0mStateGraph\u001b[0m\u001b[0;34m,\u001b[0m\u001b[0mSTART\u001b[0m\u001b[0;34m,\u001b[0m \u001b[0mEND\u001b[0m\u001b[0;34m\u001b[0m\u001b[0;34m\u001b[0m\u001b[0m\n\u001b[0m\u001b[1;32m      3\u001b[0m \u001b[0;32mfrom\u001b[0m \u001b[0mIPython\u001b[0m\u001b[0;34m.\u001b[0m\u001b[0mdisplay\u001b[0m \u001b[0;32mimport\u001b[0m \u001b[0mImage\u001b[0m\u001b[0;34m,\u001b[0m \u001b[0mdisplay\u001b[0m\u001b[0;34m\u001b[0m\u001b[0;34m\u001b[0m\u001b[0m\n\u001b[1;32m      4\u001b[0m \u001b[0;32mimport\u001b[0m \u001b[0mpprint\u001b[0m\u001b[0;34m\u001b[0m\u001b[0;34m\u001b[0m\u001b[0m\n",
            "\u001b[0;31mModuleNotFoundError\u001b[0m: No module named 'langgraph'",
            "",
            "\u001b[0;31m---------------------------------------------------------------------------\u001b[0;32m\nNOTE: If your import is failing due to a missing package, you can\nmanually install dependencies using either !pip or !apt.\n\nTo view examples of installing some common dependencies, click the\n\"Open Examples\" button below.\n\u001b[0;31m---------------------------------------------------------------------------\u001b[0m\n"
          ],
          "errorDetails": {
            "actions": [
              {
                "action": "open_url",
                "actionText": "Open Examples",
                "url": "/notebooks/snippets/importing_libraries.ipynb"
              }
            ]
          }
        }
      ],
      "source": [
        "from typing import TypedDict, Dict, List, Any\n",
        "from langgraph.graph import StateGraph,START, END\n",
        "from IPython.display import Image, display\n",
        "import pprint"
      ]
    },
    {
      "cell_type": "code",
      "source": [
        "class GraphState(TypedDict, total=False):\n",
        "    student: Dict[str, Any]\n",
        "    college: Dict[str, Any]\n",
        "    skill: Dict[str, Any]\n",
        "\n",
        "    students: Dict[str, Dict[str, Any]]\n",
        "    colleges: Dict[str, Dict[str, Any]]\n",
        "    skills: Dict[str, Dict[str, Any]]\n",
        "\n",
        "    student_college: Dict[str, str]\n",
        "    student_skills: Dict[str, List[str]]\n",
        "    skill_sources: Dict[str, Dict[str, Any]]\n"
      ],
      "metadata": {
        "id": "1KnzvsU_pMPM"
      },
      "execution_count": null,
      "outputs": []
    },
    {
      "cell_type": "code",
      "source": [
        "graph_builder = StateGraph(GraphState)"
      ],
      "metadata": {
        "id": "1kAnoF96r3Zd",
        "outputId": "4114f795-6062-48ab-cdc2-197733e1f434",
        "colab": {
          "base_uri": "https://localhost:8080/",
          "height": 144
        }
      },
      "execution_count": null,
      "outputs": [
        {
          "output_type": "error",
          "ename": "NameError",
          "evalue": "name 'StateGraph' is not defined",
          "traceback": [
            "\u001b[0;31m---------------------------------------------------------------------------\u001b[0m",
            "\u001b[0;31mNameError\u001b[0m                                 Traceback (most recent call last)",
            "\u001b[0;32m<ipython-input-4-b2ec37791620>\u001b[0m in \u001b[0;36m<cell line: 0>\u001b[0;34m()\u001b[0m\n\u001b[0;32m----> 1\u001b[0;31m \u001b[0mgraph_builder\u001b[0m \u001b[0;34m=\u001b[0m \u001b[0mStateGraph\u001b[0m\u001b[0;34m(\u001b[0m\u001b[0mGraphState\u001b[0m\u001b[0;34m)\u001b[0m\u001b[0;34m\u001b[0m\u001b[0;34m\u001b[0m\u001b[0m\n\u001b[0m",
            "\u001b[0;31mNameError\u001b[0m: name 'StateGraph' is not defined"
          ]
        }
      ]
    },
    {
      "cell_type": "code",
      "source": [
        "def student_node(state: GraphState) -> GraphState:\n",
        "    student = state.get(\"student\")\n",
        "    student_id = student[\"roll\"]\n",
        "\n",
        "    state[\"students\"] = state.get(\"students\", {})\n",
        "    state[\"students\"][student_id] = {\n",
        "        \"name\": student[\"name\"],\n",
        "        \"roll\": student[\"roll\"],\n",
        "        \"phone\": student[\"phone\"],\n",
        "        \"address\": student[\"address\"],\n",
        "        \"faculty\": student[\"faculty\"],\n",
        "        \"year\": student[\"year\"],\n",
        "        \"result\": student[\"result\"]\n",
        "    }\n",
        "    return state\n",
        "\n",
        "def college_node(state: GraphState) -> GraphState:\n",
        "    college = state.get(\"college\")\n",
        "    student_id = state[\"student\"][\"roll\"]\n",
        "    college_id = college[\"name\"]\n",
        "\n",
        "    state[\"colleges\"] = state.get(\"colleges\", {})\n",
        "    state[\"colleges\"][college_id] = {\n",
        "        \"name\": college[\"name\"],\n",
        "        \"address\": college[\"address\"],\n",
        "        \"faculty\": college[\"faculty\"],\n",
        "        \"department\": college[\"department\"]\n",
        "    }\n",
        "    #creating student_college for maintaining student and college relation\n",
        "    state[\"student_college\"] = state.get(\"student_college\", {})\n",
        "\n",
        "    #for mapping student to their respective college by college name\n",
        "    state[\"student_college\"][student_id] = college_id\n",
        "    return state\n",
        "\n",
        "def skill_node(state: GraphState) -> GraphState:\n",
        "    skill = state.get(\"skill\")\n",
        "    student_id = state[\"student\"][\"roll\"]\n",
        "    college_id = state[\"student_college\"][student_id] #for college_id Student studied in which college is given by student_college from above node\n",
        "    department = state[\"college\"][\"department\"]\n",
        "\n",
        "    skill_id = f\"{student_id}_{skill['name']}\"\n",
        "    state[\"skills\"] = state.get(\"skills\", {})\n",
        "    state[\"skills\"][skill_id] = {\n",
        "        \"name\": skill[\"name\"],\n",
        "        \"experience_years\": skill[\"experience_years\"]\n",
        "    }\n",
        "\n",
        "    #for student skill it looks to student_id\n",
        "    state[\"student_skills\"] = state.get(\"student_skills\", {})\n",
        "    state[\"student_skills\"].setdefault(student_id, []).append(skill_id)\n",
        "\n",
        "    #for skill sources which coolege and department\n",
        "    state[\"skill_sources\"] = state.get(\"skill_sources\", {})\n",
        "    state[\"skill_sources\"][skill_id] = {\n",
        "        \"college_id\": college_id,\n",
        "        \"department\": department\n",
        "    }\n",
        "\n",
        "    return state"
      ],
      "metadata": {
        "id": "3CuXT9iurgUz"
      },
      "execution_count": null,
      "outputs": []
    },
    {
      "cell_type": "markdown",
      "source": [
        "Add nodes to graph"
      ],
      "metadata": {
        "id": "ypzXpMR9sIg8"
      }
    },
    {
      "cell_type": "code",
      "source": [
        "graph_builder.add_node(\"student_node\", student_node)\n",
        "graph_builder.add_node(\"college_node\", college_node)\n",
        "graph_builder.add_node(\"skill_node\", skill_node)"
      ],
      "metadata": {
        "id": "k2_VJgNRsHES",
        "outputId": "0e029411-c797-42b1-fc83-a711f0fd7558",
        "colab": {
          "base_uri": "https://localhost:8080/",
          "height": 180
        }
      },
      "execution_count": null,
      "outputs": [
        {
          "output_type": "error",
          "ename": "NameError",
          "evalue": "name 'graph_builder' is not defined",
          "traceback": [
            "\u001b[0;31m---------------------------------------------------------------------------\u001b[0m",
            "\u001b[0;31mNameError\u001b[0m                                 Traceback (most recent call last)",
            "\u001b[0;32m<ipython-input-6-a039dcf0eac9>\u001b[0m in \u001b[0;36m<cell line: 0>\u001b[0;34m()\u001b[0m\n\u001b[0;32m----> 1\u001b[0;31m \u001b[0mgraph_builder\u001b[0m\u001b[0;34m.\u001b[0m\u001b[0madd_node\u001b[0m\u001b[0;34m(\u001b[0m\u001b[0;34m\"student_node\"\u001b[0m\u001b[0;34m,\u001b[0m \u001b[0mstudent_node\u001b[0m\u001b[0;34m)\u001b[0m\u001b[0;34m\u001b[0m\u001b[0;34m\u001b[0m\u001b[0m\n\u001b[0m\u001b[1;32m      2\u001b[0m \u001b[0mgraph_builder\u001b[0m\u001b[0;34m.\u001b[0m\u001b[0madd_node\u001b[0m\u001b[0;34m(\u001b[0m\u001b[0;34m\"college_node\"\u001b[0m\u001b[0;34m,\u001b[0m \u001b[0mcollege_node\u001b[0m\u001b[0;34m)\u001b[0m\u001b[0;34m\u001b[0m\u001b[0;34m\u001b[0m\u001b[0m\n\u001b[1;32m      3\u001b[0m \u001b[0mgraph_builder\u001b[0m\u001b[0;34m.\u001b[0m\u001b[0madd_node\u001b[0m\u001b[0;34m(\u001b[0m\u001b[0;34m\"skill_node\"\u001b[0m\u001b[0;34m,\u001b[0m \u001b[0mskill_node\u001b[0m\u001b[0;34m)\u001b[0m\u001b[0;34m\u001b[0m\u001b[0;34m\u001b[0m\u001b[0m\n",
            "\u001b[0;31mNameError\u001b[0m: name 'graph_builder' is not defined"
          ]
        }
      ]
    },
    {
      "cell_type": "markdown",
      "source": [
        "now adding edges"
      ],
      "metadata": {
        "id": "whRqHqmTsXHl"
      }
    },
    {
      "cell_type": "code",
      "source": [
        "graph_builder.add_edge(START, \"student_node\")\n",
        "graph_builder.add_edge(\"student_node\", \"college_node\")\n",
        "graph_builder.add_edge(\"college_node\", \"skill_node\")\n",
        "graph_builder.add_edge(\"skill_node\", END)\n"
      ],
      "metadata": {
        "id": "SAOBc-jQsWbf",
        "outputId": "a5043e9f-32e6-430d-883f-c19f72bb127c",
        "colab": {
          "base_uri": "https://localhost:8080/",
          "height": 198
        }
      },
      "execution_count": null,
      "outputs": [
        {
          "output_type": "error",
          "ename": "NameError",
          "evalue": "name 'graph_builder' is not defined",
          "traceback": [
            "\u001b[0;31m---------------------------------------------------------------------------\u001b[0m",
            "\u001b[0;31mNameError\u001b[0m                                 Traceback (most recent call last)",
            "\u001b[0;32m<ipython-input-7-d4820760b98f>\u001b[0m in \u001b[0;36m<cell line: 0>\u001b[0;34m()\u001b[0m\n\u001b[0;32m----> 1\u001b[0;31m \u001b[0mgraph_builder\u001b[0m\u001b[0;34m.\u001b[0m\u001b[0madd_edge\u001b[0m\u001b[0;34m(\u001b[0m\u001b[0mSTART\u001b[0m\u001b[0;34m,\u001b[0m \u001b[0;34m\"student_node\"\u001b[0m\u001b[0;34m)\u001b[0m\u001b[0;34m\u001b[0m\u001b[0;34m\u001b[0m\u001b[0m\n\u001b[0m\u001b[1;32m      2\u001b[0m \u001b[0mgraph_builder\u001b[0m\u001b[0;34m.\u001b[0m\u001b[0madd_edge\u001b[0m\u001b[0;34m(\u001b[0m\u001b[0;34m\"student_node\"\u001b[0m\u001b[0;34m,\u001b[0m \u001b[0;34m\"college_node\"\u001b[0m\u001b[0;34m)\u001b[0m\u001b[0;34m\u001b[0m\u001b[0;34m\u001b[0m\u001b[0m\n\u001b[1;32m      3\u001b[0m \u001b[0mgraph_builder\u001b[0m\u001b[0;34m.\u001b[0m\u001b[0madd_edge\u001b[0m\u001b[0;34m(\u001b[0m\u001b[0;34m\"college_node\"\u001b[0m\u001b[0;34m,\u001b[0m \u001b[0;34m\"skill_node\"\u001b[0m\u001b[0;34m)\u001b[0m\u001b[0;34m\u001b[0m\u001b[0;34m\u001b[0m\u001b[0m\n\u001b[1;32m      4\u001b[0m \u001b[0mgraph_builder\u001b[0m\u001b[0;34m.\u001b[0m\u001b[0madd_edge\u001b[0m\u001b[0;34m(\u001b[0m\u001b[0;34m\"skill_node\"\u001b[0m\u001b[0;34m,\u001b[0m \u001b[0mEND\u001b[0m\u001b[0;34m)\u001b[0m\u001b[0;34m\u001b[0m\u001b[0;34m\u001b[0m\u001b[0m\n",
            "\u001b[0;31mNameError\u001b[0m: name 'graph_builder' is not defined"
          ]
        }
      ]
    },
    {
      "cell_type": "code",
      "source": [
        "graph = graph_builder.compile()"
      ],
      "metadata": {
        "id": "1cn7xYektFz9",
        "outputId": "009a5cab-ae9e-40ae-8643-29bdfb7e2728",
        "colab": {
          "base_uri": "https://localhost:8080/",
          "height": 144
        }
      },
      "execution_count": null,
      "outputs": [
        {
          "output_type": "error",
          "ename": "NameError",
          "evalue": "name 'graph_builder' is not defined",
          "traceback": [
            "\u001b[0;31m---------------------------------------------------------------------------\u001b[0m",
            "\u001b[0;31mNameError\u001b[0m                                 Traceback (most recent call last)",
            "\u001b[0;32m<ipython-input-8-f9b7fe7f4d4e>\u001b[0m in \u001b[0;36m<cell line: 0>\u001b[0;34m()\u001b[0m\n\u001b[0;32m----> 1\u001b[0;31m \u001b[0mgraph\u001b[0m \u001b[0;34m=\u001b[0m \u001b[0mgraph_builder\u001b[0m\u001b[0;34m.\u001b[0m\u001b[0mcompile\u001b[0m\u001b[0;34m(\u001b[0m\u001b[0;34m)\u001b[0m\u001b[0;34m\u001b[0m\u001b[0;34m\u001b[0m\u001b[0m\n\u001b[0m",
            "\u001b[0;31mNameError\u001b[0m: name 'graph_builder' is not defined"
          ]
        }
      ]
    },
    {
      "cell_type": "code",
      "source": [
        "from IPython.display import Image, display\n",
        "\n",
        "try:\n",
        "    display(Image(graph.get_graph().draw_mermaid_png()))\n",
        "except Exception:\n",
        "    # This requires some extra dependencies and is optional\n",
        "    pass"
      ],
      "metadata": {
        "id": "OyraE7bstTOE"
      },
      "execution_count": null,
      "outputs": []
    },
    {
      "cell_type": "code",
      "source": [
        "initial_state: GraphState = {\n",
        "    \"student\": {\n",
        "        \"name\": \"Khemsu\",\n",
        "        \"roll\": \"CS001\",\n",
        "        \"phone\": \"9814338831\",\n",
        "        \"address\": \"Lalitpur\",\n",
        "        \"faculty\": \"Science\",\n",
        "        \"year\": 2,\n",
        "        \"result\": \"3.7 GPA\"\n",
        "    },\n",
        "    \"college\": {\n",
        "        \"name\": \"Achs\",\n",
        "        \"address\": \"Lalitpur\",\n",
        "        \"faculty\": \"Science\",\n",
        "        \"department\": \"Computer Science\"\n",
        "    },\n",
        "    \"skill\": {\n",
        "        \"name\": \"Python\",\n",
        "        \"experience_years\": 1.5\n",
        "    }\n",
        "}\n",
        "\n",
        "final_state = graph.invoke(initial_state)\n",
        "\n",
        "print(\"\\n Final State:\")\n",
        "\n",
        "pprint.pprint(final_state)"
      ],
      "metadata": {
        "id": "Pk6f_x2y1ZDN"
      },
      "execution_count": null,
      "outputs": []
    },
    {
      "cell_type": "code",
      "source": [],
      "metadata": {
        "id": "YVfy0Q0F1haq"
      },
      "execution_count": null,
      "outputs": []
    }
  ]
}