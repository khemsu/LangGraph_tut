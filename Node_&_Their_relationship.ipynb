{
  "nbformat": 4,
  "nbformat_minor": 0,
  "metadata": {
    "colab": {
      "provenance": [],
      "authorship_tag": "ABX9TyNCYbimEuhfP2jUZ7tHz2Q3",
      "include_colab_link": true
    },
    "kernelspec": {
      "name": "python3",
      "display_name": "Python 3"
    },
    "language_info": {
      "name": "python"
    }
  },
  "cells": [
    {
      "cell_type": "markdown",
      "metadata": {
        "id": "view-in-github",
        "colab_type": "text"
      },
      "source": [
        "<a href=\"https://colab.research.google.com/github/khemsu/LangGraph_tut/blob/main/Node_%26_Their_relationship.ipynb\" target=\"_parent\"><img src=\"https://colab.research.google.com/assets/colab-badge.svg\" alt=\"Open In Colab\"/></a>"
      ]
    },
    {
      "cell_type": "code",
      "source": [
        "!pip install langgraph\n"
      ],
      "metadata": {
        "colab": {
          "base_uri": "https://localhost:8080/"
        },
        "id": "pVxFcbGFd0eJ",
        "outputId": "f5b424f5-6be0-41f0-dfcf-77f0baec125c"
      },
      "execution_count": 15,
      "outputs": [
        {
          "output_type": "stream",
          "name": "stdout",
          "text": [
            "Collecting langgraph\n",
            "  Downloading langgraph-0.4.8-py3-none-any.whl.metadata (6.8 kB)\n",
            "Requirement already satisfied: langchain-core>=0.1 in /usr/local/lib/python3.11/dist-packages (from langgraph) (0.3.63)\n",
            "Collecting langgraph-checkpoint>=2.0.26 (from langgraph)\n",
            "  Downloading langgraph_checkpoint-2.0.26-py3-none-any.whl.metadata (4.6 kB)\n",
            "Collecting langgraph-prebuilt>=0.2.0 (from langgraph)\n",
            "  Downloading langgraph_prebuilt-0.2.2-py3-none-any.whl.metadata (4.5 kB)\n",
            "Collecting langgraph-sdk>=0.1.42 (from langgraph)\n",
            "  Downloading langgraph_sdk-0.1.70-py3-none-any.whl.metadata (1.5 kB)\n",
            "Requirement already satisfied: pydantic>=2.7.4 in /usr/local/lib/python3.11/dist-packages (from langgraph) (2.11.5)\n",
            "Requirement already satisfied: xxhash>=3.5.0 in /usr/local/lib/python3.11/dist-packages (from langgraph) (3.5.0)\n",
            "Requirement already satisfied: langsmith<0.4,>=0.1.126 in /usr/local/lib/python3.11/dist-packages (from langchain-core>=0.1->langgraph) (0.3.44)\n",
            "Requirement already satisfied: tenacity!=8.4.0,<10.0.0,>=8.1.0 in /usr/local/lib/python3.11/dist-packages (from langchain-core>=0.1->langgraph) (9.1.2)\n",
            "Requirement already satisfied: jsonpatch<2.0,>=1.33 in /usr/local/lib/python3.11/dist-packages (from langchain-core>=0.1->langgraph) (1.33)\n",
            "Requirement already satisfied: PyYAML>=5.3 in /usr/local/lib/python3.11/dist-packages (from langchain-core>=0.1->langgraph) (6.0.2)\n",
            "Requirement already satisfied: packaging<25,>=23.2 in /usr/local/lib/python3.11/dist-packages (from langchain-core>=0.1->langgraph) (24.2)\n",
            "Requirement already satisfied: typing-extensions>=4.7 in /usr/local/lib/python3.11/dist-packages (from langchain-core>=0.1->langgraph) (4.14.0)\n",
            "Collecting ormsgpack<2.0.0,>=1.8.0 (from langgraph-checkpoint>=2.0.26->langgraph)\n",
            "  Downloading ormsgpack-1.10.0-cp311-cp311-manylinux_2_17_x86_64.manylinux2014_x86_64.whl.metadata (43 kB)\n",
            "\u001b[2K     \u001b[90m━━━━━━━━━━━━━━━━━━━━━━━━━━━━━━━━━━━━━━━━\u001b[0m \u001b[32m43.7/43.7 kB\u001b[0m \u001b[31m2.7 MB/s\u001b[0m eta \u001b[36m0:00:00\u001b[0m\n",
            "\u001b[?25hRequirement already satisfied: httpx>=0.25.2 in /usr/local/lib/python3.11/dist-packages (from langgraph-sdk>=0.1.42->langgraph) (0.28.1)\n",
            "Requirement already satisfied: orjson>=3.10.1 in /usr/local/lib/python3.11/dist-packages (from langgraph-sdk>=0.1.42->langgraph) (3.10.18)\n",
            "Requirement already satisfied: annotated-types>=0.6.0 in /usr/local/lib/python3.11/dist-packages (from pydantic>=2.7.4->langgraph) (0.7.0)\n",
            "Requirement already satisfied: pydantic-core==2.33.2 in /usr/local/lib/python3.11/dist-packages (from pydantic>=2.7.4->langgraph) (2.33.2)\n",
            "Requirement already satisfied: typing-inspection>=0.4.0 in /usr/local/lib/python3.11/dist-packages (from pydantic>=2.7.4->langgraph) (0.4.1)\n",
            "Requirement already satisfied: anyio in /usr/local/lib/python3.11/dist-packages (from httpx>=0.25.2->langgraph-sdk>=0.1.42->langgraph) (4.9.0)\n",
            "Requirement already satisfied: certifi in /usr/local/lib/python3.11/dist-packages (from httpx>=0.25.2->langgraph-sdk>=0.1.42->langgraph) (2025.4.26)\n",
            "Requirement already satisfied: httpcore==1.* in /usr/local/lib/python3.11/dist-packages (from httpx>=0.25.2->langgraph-sdk>=0.1.42->langgraph) (1.0.9)\n",
            "Requirement already satisfied: idna in /usr/local/lib/python3.11/dist-packages (from httpx>=0.25.2->langgraph-sdk>=0.1.42->langgraph) (3.10)\n",
            "Requirement already satisfied: h11>=0.16 in /usr/local/lib/python3.11/dist-packages (from httpcore==1.*->httpx>=0.25.2->langgraph-sdk>=0.1.42->langgraph) (0.16.0)\n",
            "Requirement already satisfied: jsonpointer>=1.9 in /usr/local/lib/python3.11/dist-packages (from jsonpatch<2.0,>=1.33->langchain-core>=0.1->langgraph) (3.0.0)\n",
            "Requirement already satisfied: requests<3,>=2 in /usr/local/lib/python3.11/dist-packages (from langsmith<0.4,>=0.1.126->langchain-core>=0.1->langgraph) (2.32.3)\n",
            "Requirement already satisfied: requests-toolbelt<2.0.0,>=1.0.0 in /usr/local/lib/python3.11/dist-packages (from langsmith<0.4,>=0.1.126->langchain-core>=0.1->langgraph) (1.0.0)\n",
            "Requirement already satisfied: zstandard<0.24.0,>=0.23.0 in /usr/local/lib/python3.11/dist-packages (from langsmith<0.4,>=0.1.126->langchain-core>=0.1->langgraph) (0.23.0)\n",
            "Requirement already satisfied: charset-normalizer<4,>=2 in /usr/local/lib/python3.11/dist-packages (from requests<3,>=2->langsmith<0.4,>=0.1.126->langchain-core>=0.1->langgraph) (3.4.2)\n",
            "Requirement already satisfied: urllib3<3,>=1.21.1 in /usr/local/lib/python3.11/dist-packages (from requests<3,>=2->langsmith<0.4,>=0.1.126->langchain-core>=0.1->langgraph) (2.4.0)\n",
            "Requirement already satisfied: sniffio>=1.1 in /usr/local/lib/python3.11/dist-packages (from anyio->httpx>=0.25.2->langgraph-sdk>=0.1.42->langgraph) (1.3.1)\n",
            "Downloading langgraph-0.4.8-py3-none-any.whl (152 kB)\n",
            "\u001b[2K   \u001b[90m━━━━━━━━━━━━━━━━━━━━━━━━━━━━━━━━━━━━━━━━\u001b[0m \u001b[32m152.4/152.4 kB\u001b[0m \u001b[31m9.8 MB/s\u001b[0m eta \u001b[36m0:00:00\u001b[0m\n",
            "\u001b[?25hDownloading langgraph_checkpoint-2.0.26-py3-none-any.whl (44 kB)\n",
            "\u001b[2K   \u001b[90m━━━━━━━━━━━━━━━━━━━━━━━━━━━━━━━━━━━━━━━━\u001b[0m \u001b[32m44.2/44.2 kB\u001b[0m \u001b[31m4.4 MB/s\u001b[0m eta \u001b[36m0:00:00\u001b[0m\n",
            "\u001b[?25hDownloading langgraph_prebuilt-0.2.2-py3-none-any.whl (23 kB)\n",
            "Downloading langgraph_sdk-0.1.70-py3-none-any.whl (49 kB)\n",
            "\u001b[2K   \u001b[90m━━━━━━━━━━━━━━━━━━━━━━━━━━━━━━━━━━━━━━━━\u001b[0m \u001b[32m50.0/50.0 kB\u001b[0m \u001b[31m4.4 MB/s\u001b[0m eta \u001b[36m0:00:00\u001b[0m\n",
            "\u001b[?25hDownloading ormsgpack-1.10.0-cp311-cp311-manylinux_2_17_x86_64.manylinux2014_x86_64.whl (216 kB)\n",
            "\u001b[2K   \u001b[90m━━━━━━━━━━━━━━━━━━━━━━━━━━━━━━━━━━━━━━━━\u001b[0m \u001b[32m216.5/216.5 kB\u001b[0m \u001b[31m22.7 MB/s\u001b[0m eta \u001b[36m0:00:00\u001b[0m\n",
            "\u001b[?25hInstalling collected packages: ormsgpack, langgraph-sdk, langgraph-checkpoint, langgraph-prebuilt, langgraph\n",
            "Successfully installed langgraph-0.4.8 langgraph-checkpoint-2.0.26 langgraph-prebuilt-0.2.2 langgraph-sdk-0.1.70 ormsgpack-1.10.0\n"
          ]
        }
      ]
    },
    {
      "cell_type": "code",
      "execution_count": 16,
      "metadata": {
        "id": "Zls6WoGimUI7"
      },
      "outputs": [],
      "source": [
        "from typing import TypedDict, Dict, List, Any\n",
        "from langgraph.graph import StateGraph, START, END\n",
        "from IPython.display import Image, display\n",
        "import pprint"
      ]
    },
    {
      "cell_type": "code",
      "source": [
        "class GraphState(TypedDict, total=False):\n",
        "    student: Dict[str, Any]\n",
        "    college: Dict[str, Any]\n",
        "    skill: Dict[str, Any]\n",
        "\n",
        "    students: Dict[str, Dict[str, Any]]\n",
        "    colleges: Dict[str, Dict[str, Any]]\n",
        "    skills: Dict[str, Dict[str, Any]]\n",
        "\n",
        "    student_college: Dict[str, str]\n",
        "    student_skills: Dict[str, List[str]]\n",
        "    skill_sources: Dict[str, Dict[str, Any]]\n"
      ],
      "metadata": {
        "id": "1KnzvsU_pMPM"
      },
      "execution_count": 17,
      "outputs": []
    },
    {
      "cell_type": "code",
      "source": [
        "graph_builder = StateGraph(GraphState)"
      ],
      "metadata": {
        "id": "1kAnoF96r3Zd"
      },
      "execution_count": 18,
      "outputs": []
    },
    {
      "cell_type": "code",
      "source": [
        "def student_node(state: GraphState) -> GraphState:\n",
        "    student = state.get(\"student\")\n",
        "    student_id = student[\"roll\"]\n",
        "\n",
        "    state[\"students\"] = state.get(\"students\", {})\n",
        "    state[\"students\"][student_id] = {\n",
        "        \"name\": student[\"name\"],\n",
        "        \"roll\": student[\"roll\"],\n",
        "        \"phone\": student[\"phone\"],\n",
        "        \"address\": student[\"address\"],\n",
        "        \"faculty\": student[\"faculty\"],\n",
        "        \"year\": student[\"year\"],\n",
        "        \"result\": student[\"result\"]\n",
        "    }\n",
        "    return state\n",
        "\n",
        "def college_node(state: GraphState) -> GraphState:\n",
        "    college = state.get(\"college\")\n",
        "    student_id = state[\"student\"][\"roll\"]\n",
        "    college_id = college[\"name\"]\n",
        "\n",
        "    state[\"colleges\"] = state.get(\"colleges\", {})\n",
        "    state[\"colleges\"][college_id] = {\n",
        "        \"name\": college[\"name\"],\n",
        "        \"address\": college[\"address\"],\n",
        "        \"faculty\": college[\"faculty\"],\n",
        "        \"department\": college[\"department\"]\n",
        "    }\n",
        "    #creating student_college for maintaining student and college relation\n",
        "    state[\"student_college\"] = state.get(\"student_college\", {})\n",
        "\n",
        "    #for mapping student to their respective college by college name\n",
        "    state[\"student_college\"][student_id] = college_id\n",
        "    return state\n",
        "\n",
        "def skill_node(state: GraphState) -> GraphState:\n",
        "    skill = state.get(\"skill\")\n",
        "    student_id = state[\"student\"][\"roll\"]\n",
        "    college_id = state[\"student_college\"][student_id] #for college_id Student studied in which college is given by student_college from above node\n",
        "    department = state[\"college\"][\"department\"]\n",
        "\n",
        "    skill_id = f\"{student_id}_{skill['name']}\"\n",
        "    state[\"skills\"] = state.get(\"skills\", {})\n",
        "    state[\"skills\"][skill_id] = {\n",
        "        \"name\": skill[\"name\"],\n",
        "        \"experience_years\": skill[\"experience_years\"]\n",
        "    }\n",
        "\n",
        "    #for student skill it looks to student_id\n",
        "    state[\"student_skills\"] = state.get(\"student_skills\", {})\n",
        "    state[\"student_skills\"].setdefault(student_id, []).append(skill_id)\n",
        "\n",
        "    #for skill sources which coolege and department\n",
        "    state[\"skill_sources\"] = state.get(\"skill_sources\", {})\n",
        "    state[\"skill_sources\"][skill_id] = {\n",
        "        \"college_id\": college_id,\n",
        "        \"department\": department\n",
        "    }\n",
        "\n",
        "    return state"
      ],
      "metadata": {
        "id": "3CuXT9iurgUz"
      },
      "execution_count": 19,
      "outputs": []
    },
    {
      "cell_type": "markdown",
      "source": [
        "Add nodes to graph"
      ],
      "metadata": {
        "id": "ypzXpMR9sIg8"
      }
    },
    {
      "cell_type": "code",
      "source": [
        "graph_builder.add_node(\"student_node\", student_node)\n",
        "graph_builder.add_node(\"college_node\", college_node)\n",
        "graph_builder.add_node(\"skill_node\", skill_node)"
      ],
      "metadata": {
        "id": "k2_VJgNRsHES",
        "outputId": "3505c469-a220-4483-eb5a-59d4f7462d88",
        "colab": {
          "base_uri": "https://localhost:8080/"
        }
      },
      "execution_count": 20,
      "outputs": [
        {
          "output_type": "execute_result",
          "data": {
            "text/plain": [
              "<langgraph.graph.state.StateGraph at 0x7d87a6329b90>"
            ]
          },
          "metadata": {},
          "execution_count": 20
        }
      ]
    },
    {
      "cell_type": "markdown",
      "source": [
        "now adding edges"
      ],
      "metadata": {
        "id": "whRqHqmTsXHl"
      }
    },
    {
      "cell_type": "code",
      "source": [
        "graph_builder.add_edge(START, \"student_node\")\n",
        "graph_builder.add_edge(\"student_node\", \"college_node\")\n",
        "graph_builder.add_edge(\"college_node\", \"skill_node\")\n",
        "graph_builder.add_edge(\"skill_node\", END)\n"
      ],
      "metadata": {
        "id": "SAOBc-jQsWbf",
        "outputId": "bbd16ee0-a3e6-4bd1-8a8a-797c764cd2fa",
        "colab": {
          "base_uri": "https://localhost:8080/"
        }
      },
      "execution_count": 21,
      "outputs": [
        {
          "output_type": "execute_result",
          "data": {
            "text/plain": [
              "<langgraph.graph.state.StateGraph at 0x7d87a6329b90>"
            ]
          },
          "metadata": {},
          "execution_count": 21
        }
      ]
    },
    {
      "cell_type": "code",
      "source": [
        "graph = graph_builder.compile()"
      ],
      "metadata": {
        "id": "1cn7xYektFz9"
      },
      "execution_count": 22,
      "outputs": []
    },
    {
      "cell_type": "code",
      "source": [
        "from IPython.display import Image, display\n",
        "\n",
        "try:\n",
        "    display(Image(graph.get_graph().draw_mermaid_png()))\n",
        "except Exception:\n",
        "    # This requires some extra dependencies and is optional\n",
        "    pass"
      ],
      "metadata": {
        "id": "OyraE7bstTOE",
        "colab": {
          "base_uri": "https://localhost:8080/",
          "height": 449
        },
        "outputId": "f3848505-ac38-4975-afdc-78b173843309"
      },
      "execution_count": 23,
      "outputs": [
        {
          "output_type": "display_data",
          "data": {
            "image/png": "[encoded data removed]",
            "text/plain": [
              "<IPython.core.display.Image object>"
            ]
          },
          "metadata": {}
        }
      ]
    },
    {
      "cell_type": "code",
      "source": [
        "initial_state: GraphState = {\n",
        "    \"student\": {\n",
        "        \"name\": \"Khemsu\",\n",
        "        \"roll\": \"CS001\",\n",
        "        \"phone\": \"9814338831\",\n",
        "        \"address\": \"Lalitpur\",\n",
        "        \"faculty\": \"Science\",\n",
        "        \"year\": 2,\n",
        "        \"result\": \"3.7 GPA\"\n",
        "    },\n",
        "    \"college\": {\n",
        "        \"name\": \"Achs\",\n",
        "        \"address\": \"Lalitpur\",\n",
        "        \"faculty\": \"Science\",\n",
        "        \"department\": \"Computer Science\"\n",
        "    },\n",
        "    \"skill\": {\n",
        "        \"name\": \"Python\",\n",
        "        \"experience_years\": 1.5\n",
        "    }\n",
        "}\n",
        "\n",
        "final_state = graph.invoke(initial_state)\n",
        "\n",
        "print(\"\\n Final State:\")\n",
        "\n",
        "pprint.pprint(final_state)"
      ],
      "metadata": {
        "id": "Pk6f_x2y1ZDN",
        "colab": {
          "base_uri": "https://localhost:8080/"
        },
        "outputId": "853ae421-2984-4082-eac1-21ddd155bccb"
      },
      "execution_count": 24,
      "outputs": [
        {
          "output_type": "stream",
          "name": "stdout",
          "text": [
            "\n",
            " Final State:\n",
            "{'college': {'address': 'Lalitpur',\n",
            "             'department': 'Computer Science',\n",
            "             'faculty': 'Science',\n",
            "             'name': 'Achs'},\n",
            " 'colleges': {'Achs': {'address': 'Lalitpur',\n",
            "                       'department': 'Computer Science',\n",
            "                       'faculty': 'Science',\n",
            "                       'name': 'Achs'}},\n",
            " 'skill': {'experience_years': 1.5, 'name': 'Python'},\n",
            " 'skill_sources': {'CS001_Python': {'college_id': 'Achs',\n",
            "                                    'department': 'Computer Science'}},\n",
            " 'skills': {'CS001_Python': {'experience_years': 1.5, 'name': 'Python'}},\n",
            " 'student': {'address': 'Lalitpur',\n",
            "             'faculty': 'Science',\n",
            "             'name': 'Khemsu',\n",
            "             'phone': '9814338831',\n",
            "             'result': '3.7 GPA',\n",
            "             'roll': 'CS001',\n",
            "             'year': 2},\n",
            " 'student_college': {'CS001': 'Achs'},\n",
            " 'student_skills': {'CS001': ['CS001_Python']},\n",
            " 'students': {'CS001': {'address': 'Lalitpur',\n",
            "                        'faculty': 'Science',\n",
            "                        'name': 'Khemsu',\n",
            "                        'phone': '9814338831',\n",
            "                        'result': '3.7 GPA',\n",
            "                        'roll': 'CS001',\n",
            "                        'year': 2}}}\n"
          ]
        }
      ]
    },
    {
      "cell_type": "code",
      "source": [],
      "metadata": {
        "id": "YVfy0Q0F1haq"
      },
      "execution_count": null,
      "outputs": []
    }
  ]
}