{
  "nbformat": 4,
  "nbformat_minor": 0,
  "metadata": {
    "colab": {
      "provenance": [],
      "authorship_tag": "ABX9TyPHt4xi6pEm30Uu5H9IYoOj",
      "include_colab_link": true
    },
    "kernelspec": {
      "name": "python3",
      "display_name": "Python 3"
    },
    "language_info": {
      "name": "python"
    }
  },
  "cells": [
    {
      "cell_type": "markdown",
      "metadata": {
        "id": "view-in-github",
        "colab_type": "text"
      },
      "source": [
        "<a href=\"https://colab.research.google.com/github/khemsu/LangGraph_tut/blob/main/Candidate_Graphdatabase.ipynb\" target=\"_parent\"><img src=\"https://colab.research.google.com/assets/colab-badge.svg\" alt=\"Open In Colab\"/></a>"
      ]
    },
    {
      "cell_type": "markdown",
      "source": [
        "## Candidate Schema\n"
      ],
      "metadata": {
        "id": "Z8jUWiz2GO76"
      }
    },
    {
      "cell_type": "code",
      "execution_count": null,
      "metadata": {
        "id": "HG53kJK6GKNV"
      },
      "outputs": [],
      "source": [
        "CREATE (c:Candidate {\n",
        "  id: \"C123\",\n",
        "  name: \"Aarav Sharma\",\n",
        "  email: \"aarav.sharma@example.com\",\n",
        "  phone: \"+977-9814338831\",\n",
        "  location: \"Kathmandu, Nepal\",\n",
        "  experience_years: 4,\n",
        "  skills: [\"Python\", \"Django\", \"React\", \"SQL\"],\n",
        "  education: [\"BSc in Computer Science - TU\"],\n",
        "  current_role: \"Full Stack Developer\",\n",
        "  industry: \"Information Technology\",\n",
        "  resume_link: \"https://example.com/resumes/aarav_sharma.pdf\",\n",
        "  availability: \"2 weeks\",\n",
        "  preferred_location: [\"Kathmandu\", \"Remote\"],\n",
        "  expected_salary: 1200.00,\n",
        "  languages: [\"English\", \"Nepali\", \"Hindi\"]\n",
        "})\n"
      ]
    }
  ]
}